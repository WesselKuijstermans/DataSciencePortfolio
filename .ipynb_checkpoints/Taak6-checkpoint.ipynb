{
 "cells": [
  {
   "cell_type": "code",
   "execution_count": 1,
   "id": "7c8f6262",
   "metadata": {},
   "outputs": [],
   "source": [
    "import pandas as pd"
   ]
  },
  {
   "cell_type": "code",
   "execution_count": 2,
   "id": "3163a772",
   "metadata": {},
   "outputs": [],
   "source": [
    "movies = pd.read_csv('./imdb_top_1000.csv', thousands=',')"
   ]
  },
  {
   "cell_type": "code",
   "execution_count": 3,
   "id": "0f144a10",
   "metadata": {},
   "outputs": [],
   "source": [
    "movies['Runtime'] = [i.split()[0] for i in movies['Runtime']]\n",
    "movies['Runtime'] = movies['Runtime'].astype(int)\n",
    "movies = movies[movies.Released_Year.str.isnumeric()]\n",
    "movies['Released_Year'] = movies['Released_Year'].astype(int)"
   ]
  },
  {
   "cell_type": "code",
   "execution_count": 4,
   "id": "33a702e9",
   "metadata": {},
   "outputs": [],
   "source": [
    "# Splitst de genre's op in nieuwe rijen\n",
    "# Gebruik enkel voor tellen van genre's\n",
    "moviesExplodeGenre = movies.assign(Genre = movies.Genre.str.split(\", \")).explode('Genre')"
   ]
  },
  {
   "cell_type": "code",
   "execution_count": 5,
   "id": "44058515",
   "metadata": {},
   "outputs": [],
   "source": [
    "# Splitst de genre's op in nieuwe kolommen\n",
    "# Gebruik wanneer exploden rommelt met gegevens\n",
    "movies[['Genre1', 'Genre2', 'Genre3']] = movies['Genre'].str.split(', ', 2, expand=True)"
   ]
  },
  {
   "cell_type": "code",
   "execution_count": 21,
   "id": "5d594f60",
   "metadata": {},
   "outputs": [
    {
     "data": {
      "text/html": [
       "<div>\n",
       "<style scoped>\n",
       "    .dataframe tbody tr th:only-of-type {\n",
       "        vertical-align: middle;\n",
       "    }\n",
       "\n",
       "    .dataframe tbody tr th {\n",
       "        vertical-align: top;\n",
       "    }\n",
       "\n",
       "    .dataframe thead th {\n",
       "        text-align: right;\n",
       "    }\n",
       "</style>\n",
       "<table border=\"1\" class=\"dataframe\">\n",
       "  <thead>\n",
       "    <tr style=\"text-align: right;\">\n",
       "      <th></th>\n",
       "      <th>Released_Year</th>\n",
       "      <th>Runtime</th>\n",
       "      <th>IMDB_Rating</th>\n",
       "      <th>Meta_score</th>\n",
       "      <th>No_of_Votes</th>\n",
       "      <th>Gross</th>\n",
       "    </tr>\n",
       "  </thead>\n",
       "  <tbody>\n",
       "    <tr>\n",
       "      <th>count</th>\n",
       "      <td>999.000000</td>\n",
       "      <td>999.000000</td>\n",
       "      <td>999.000000</td>\n",
       "      <td>842.000000</td>\n",
       "      <td>9.990000e+02</td>\n",
       "      <td>8.300000e+02</td>\n",
       "    </tr>\n",
       "    <tr>\n",
       "      <th>mean</th>\n",
       "      <td>1991.217217</td>\n",
       "      <td>122.873874</td>\n",
       "      <td>7.949650</td>\n",
       "      <td>77.972684</td>\n",
       "      <td>2.736974e+05</td>\n",
       "      <td>6.790728e+07</td>\n",
       "    </tr>\n",
       "    <tr>\n",
       "      <th>std</th>\n",
       "      <td>23.297025</td>\n",
       "      <td>28.102520</td>\n",
       "      <td>0.275407</td>\n",
       "      <td>12.383410</td>\n",
       "      <td>3.275366e+05</td>\n",
       "      <td>1.097546e+08</td>\n",
       "    </tr>\n",
       "    <tr>\n",
       "      <th>min</th>\n",
       "      <td>1920.000000</td>\n",
       "      <td>45.000000</td>\n",
       "      <td>7.600000</td>\n",
       "      <td>28.000000</td>\n",
       "      <td>2.508800e+04</td>\n",
       "      <td>1.305000e+03</td>\n",
       "    </tr>\n",
       "    <tr>\n",
       "      <th>25%</th>\n",
       "      <td>1976.000000</td>\n",
       "      <td>103.000000</td>\n",
       "      <td>7.700000</td>\n",
       "      <td>70.000000</td>\n",
       "      <td>5.547150e+04</td>\n",
       "      <td>3.245338e+06</td>\n",
       "    </tr>\n",
       "    <tr>\n",
       "      <th>50%</th>\n",
       "      <td>1999.000000</td>\n",
       "      <td>119.000000</td>\n",
       "      <td>7.900000</td>\n",
       "      <td>79.000000</td>\n",
       "      <td>1.383560e+05</td>\n",
       "      <td>2.345744e+07</td>\n",
       "    </tr>\n",
       "    <tr>\n",
       "      <th>75%</th>\n",
       "      <td>2009.000000</td>\n",
       "      <td>137.000000</td>\n",
       "      <td>8.100000</td>\n",
       "      <td>87.000000</td>\n",
       "      <td>3.744775e+05</td>\n",
       "      <td>8.010324e+07</td>\n",
       "    </tr>\n",
       "    <tr>\n",
       "      <th>max</th>\n",
       "      <td>2020.000000</td>\n",
       "      <td>321.000000</td>\n",
       "      <td>9.300000</td>\n",
       "      <td>100.000000</td>\n",
       "      <td>2.343110e+06</td>\n",
       "      <td>9.366622e+08</td>\n",
       "    </tr>\n",
       "  </tbody>\n",
       "</table>\n",
       "</div>"
      ],
      "text/plain": [
       "       Released_Year     Runtime  IMDB_Rating  Meta_score   No_of_Votes  \\\n",
       "count     999.000000  999.000000   999.000000  842.000000  9.990000e+02   \n",
       "mean     1991.217217  122.873874     7.949650   77.972684  2.736974e+05   \n",
       "std        23.297025   28.102520     0.275407   12.383410  3.275366e+05   \n",
       "min      1920.000000   45.000000     7.600000   28.000000  2.508800e+04   \n",
       "25%      1976.000000  103.000000     7.700000   70.000000  5.547150e+04   \n",
       "50%      1999.000000  119.000000     7.900000   79.000000  1.383560e+05   \n",
       "75%      2009.000000  137.000000     8.100000   87.000000  3.744775e+05   \n",
       "max      2020.000000  321.000000     9.300000  100.000000  2.343110e+06   \n",
       "\n",
       "              Gross  \n",
       "count  8.300000e+02  \n",
       "mean   6.790728e+07  \n",
       "std    1.097546e+08  \n",
       "min    1.305000e+03  \n",
       "25%    3.245338e+06  \n",
       "50%    2.345744e+07  \n",
       "75%    8.010324e+07  \n",
       "max    9.366622e+08  "
      ]
     },
     "execution_count": 21,
     "metadata": {},
     "output_type": "execute_result"
    }
   ],
   "source": [
    "movies.describe()"
   ]
  },
  {
   "cell_type": "code",
   "execution_count": 22,
   "id": "a89ae9e7",
   "metadata": {},
   "outputs": [
    {
     "data": {
      "text/plain": [
       "Drama        723\n",
       "Comedy       233\n",
       "Crime        209\n",
       "Adventure    195\n",
       "Action       189\n",
       "Thriller     137\n",
       "Romance      125\n",
       "Biography    109\n",
       "Mystery       99\n",
       "Animation     82\n",
       "Sci-Fi        67\n",
       "Fantasy       66\n",
       "Family        56\n",
       "History       55\n",
       "War           51\n",
       "Music         35\n",
       "Horror        32\n",
       "Western       20\n",
       "Film-Noir     19\n",
       "Sport         19\n",
       "Musical       17\n",
       "Name: Genre, dtype: int64"
      ]
     },
     "execution_count": 22,
     "metadata": {},
     "output_type": "execute_result"
    }
   ],
   "source": [
    "moviesExplodeGenre['Genre'].value_counts()"
   ]
  },
  {
   "cell_type": "code",
   "execution_count": 6,
   "id": "8b677fe9",
   "metadata": {},
   "outputs": [
    {
     "data": {
      "text/plain": [
       "<AxesSubplot:>"
      ]
     },
     "execution_count": 6,
     "metadata": {},
     "output_type": "execute_result"
    },
    {
     "data": {
      "image/png": "[encoded data removed]",
      "text/plain": [
       "<Figure size 432x288 with 1 Axes>"
      ]
     },
     "metadata": {
      "needs_background": "light"
     },
     "output_type": "display_data"
    }
   ],
   "source": [
    "moviesExplodeGenre['Genre'].value_counts().plot(kind='bar')"
   ]
  },
  {
   "cell_type": "code",
   "execution_count": 23,
   "id": "7cf02f30",
   "metadata": {},
   "outputs": [
    {
     "data": {
      "text/plain": [
       "Alfred Hitchcock    14\n",
       "Steven Spielberg    13\n",
       "Hayao Miyazaki      11\n",
       "Martin Scorsese     10\n",
       "Akira Kurosawa      10\n",
       "                    ..\n",
       "Neill Blomkamp       1\n",
       "Tomas Alfredson      1\n",
       "Duncan Jones         1\n",
       "Jacques Audiard      1\n",
       "George Stevens       1\n",
       "Name: Director, Length: 548, dtype: int64"
      ]
     },
     "execution_count": 23,
     "metadata": {},
     "output_type": "execute_result"
    }
   ],
   "source": [
    "movies['Director'].value_counts()"
   ]
  },
  {
   "cell_type": "code",
   "execution_count": 7,
   "id": "1bc385f6",
   "metadata": {},
   "outputs": [
    {
     "data": {
      "text/plain": [
       "<AxesSubplot:ylabel='Frequency'>"
      ]
     },
     "execution_count": 7,
     "metadata": {},
     "output_type": "execute_result"
    },
    {
     "data": {
      "image/png": "[encoded data removed]",
      "text/plain": [
       "<Figure size 432x288 with 1 Axes>"
      ]
     },
     "metadata": {
      "needs_background": "light"
     },
     "output_type": "display_data"
    }
   ],
   "source": [
    "movies['Director'].value_counts().plot(kind='hist', bins=14)"
   ]
  },
  {
   "cell_type": "code",
   "execution_count": 13,
   "id": "975f5598",
   "metadata": {},
   "outputs": [
    {
     "data": {
      "text/plain": [
       "1305.0"
      ]
     },
     "execution_count": 13,
     "metadata": {},
     "output_type": "execute_result"
    }
   ],
   "source": [
    "movies['Gross'].min()"
   ]
  },
  {
   "cell_type": "code",
   "execution_count": 14,
   "id": "4cf7ea73",
   "metadata": {},
   "outputs": [
    {
     "data": {
      "text/plain": [
       "936662225.0"
      ]
     },
     "execution_count": 14,
     "metadata": {},
     "output_type": "execute_result"
    }
   ],
   "source": [
    "movies['Gross'].max()"
   ]
  },
  {
   "cell_type": "code",
   "execution_count": 15,
   "id": "b08e87aa",
   "metadata": {},
   "outputs": [
    {
     "data": {
      "text/plain": [
       "67907277.16024096"
      ]
     },
     "execution_count": 15,
     "metadata": {},
     "output_type": "execute_result"
    }
   ],
   "source": [
    "movies['Gross'].mean()"
   ]
  },
  {
   "cell_type": "code",
   "execution_count": 17,
   "id": "6973c1f6",
   "metadata": {},
   "outputs": [
    {
     "data": {
      "text/plain": [
       "23457439.5"
      ]
     },
     "execution_count": 17,
     "metadata": {},
     "output_type": "execute_result"
    }
   ],
   "source": [
    "movies['Gross'].median()"
   ]
  },
  {
   "cell_type": "code",
   "execution_count": 18,
   "id": "dbb7f583",
   "metadata": {},
   "outputs": [
    {
     "data": {
      "text/plain": [
       "109754644.35904409"
      ]
     },
     "execution_count": 18,
     "metadata": {},
     "output_type": "execute_result"
    }
   ],
   "source": [
    "movies['Gross'].std()"
   ]
  },
  {
   "cell_type": "code",
   "execution_count": 20,
   "id": "7f7ae21e",
   "metadata": {
    "scrolled": true
   },
   "outputs": [
    {
     "data": {
      "text/plain": [
       "<AxesSubplot:ylabel='Frequency'>"
      ]
     },
     "execution_count": 20,
     "metadata": {},
     "output_type": "execute_result"
    },
    {
     "data": {
      "image/png": "[encoded data removed]",
      "text/plain": [
       "<Figure size 432x288 with 1 Axes>"
      ]
     },
     "metadata": {
      "needs_background": "light"
     },
     "output_type": "display_data"
    }
   ],
   "source": [
    "movies['Gross'].plot(kind='hist')"
   ]
  },
  {
   "cell_type": "code",
   "execution_count": 24,
   "id": "0a718023",
   "metadata": {},
   "outputs": [
    {
     "data": {
      "text/plain": [
       "28.0"
      ]
     },
     "execution_count": 24,
     "metadata": {},
     "output_type": "execute_result"
    }
   ],
   "source": [
    "movies['Meta_score'].min()"
   ]
  },
  {
   "cell_type": "code",
   "execution_count": 25,
   "id": "c5d73557",
   "metadata": {},
   "outputs": [
    {
     "data": {
      "text/plain": [
       "100.0"
      ]
     },
     "execution_count": 25,
     "metadata": {},
     "output_type": "execute_result"
    }
   ],
   "source": [
    "movies['Meta_score'].max()"
   ]
  },
  {
   "cell_type": "code",
   "execution_count": 26,
   "id": "d89c725c",
   "metadata": {},
   "outputs": [
    {
     "data": {
      "text/plain": [
       "77.97268408551069"
      ]
     },
     "execution_count": 26,
     "metadata": {},
     "output_type": "execute_result"
    }
   ],
   "source": [
    "movies['Meta_score'].mean()"
   ]
  },
  {
   "cell_type": "code",
   "execution_count": 27,
   "id": "c02f081b",
   "metadata": {},
   "outputs": [
    {
     "data": {
      "text/plain": [
       "79.0"
      ]
     },
     "execution_count": 27,
     "metadata": {},
     "output_type": "execute_result"
    }
   ],
   "source": [
    "movies['Meta_score'].median()"
   ]
  },
  {
   "cell_type": "code",
   "execution_count": 28,
   "id": "dd7e950f",
   "metadata": {},
   "outputs": [
    {
     "data": {
      "text/plain": [
       "12.383409739743025"
      ]
     },
     "execution_count": 28,
     "metadata": {},
     "output_type": "execute_result"
    }
   ],
   "source": [
    "movies['Meta_score'].std()"
   ]
  },
  {
   "cell_type": "code",
   "execution_count": 9,
   "id": "9092ea42",
   "metadata": {},
   "outputs": [
    {
     "data": {
      "text/plain": [
       "<AxesSubplot:>"
      ]
     },
     "execution_count": 9,
     "metadata": {},
     "output_type": "execute_result"
    },
    {
     "data": {
      "image/png": "[encoded data removed]",
      "text/plain": [
       "<Figure size 432x288 with 1 Axes>"
      ]
     },
     "metadata": {
      "needs_background": "light"
     },
     "output_type": "display_data"
    }
   ],
   "source": [
    "movies['Meta_score'].plot(kind='box')"
   ]
  }
 ],
 "metadata": {
  "kernelspec": {
   "display_name": "Python 3 (ipykernel)",
   "language": "python",
   "name": "python3"
  },
  "language_info": {
   "codemirror_mode": {
    "name": "ipython",
    "version": 3
   },
   "file_extension": ".py",
   "mimetype": "text/x-python",
   "name": "python",
   "nbconvert_exporter": "python",
   "pygments_lexer": "ipython3",
   "version": "3.9.7"
  }
 },
 "nbformat": 4,
 "nbformat_minor": 5
}
