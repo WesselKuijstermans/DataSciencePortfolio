{
 "cells": [
  {
   "cell_type": "code",
   "execution_count": 1,
   "id": "1af9af57",
   "metadata": {},
   "outputs": [],
   "source": [
    "import pandas as pd"
   ]
  },
  {
   "cell_type": "code",
   "execution_count": 2,
   "id": "99a9f25d",
   "metadata": {},
   "outputs": [],
   "source": [
    "movies = pd.read_csv('./imdb_top_1000.csv', thousands=',')"
   ]
  },
  {
   "cell_type": "code",
   "execution_count": 3,
   "id": "459734ad",
   "metadata": {},
   "outputs": [],
   "source": [
    "movies['Runtime'] = [i.split()[0] for i in movies['Runtime']]\n",
    "movies['Runtime'] = movies['Runtime'].astype(int)\n",
    "movies = movies[movies.Released_Year.str.isnumeric()]\n",
    "movies['Released_Year'] = movies['Released_Year'].astype(int)"
   ]
  },
  {
   "cell_type": "code",
   "execution_count": 4,
   "id": "9a37db66",
   "metadata": {},
   "outputs": [],
   "source": [
    "# Splitst de genre's op in nieuwe rijen\n",
    "# Gebruik enkel voor tellen van genre's\n",
    "moviesExplodeGenre = movies.assign(Genre = movies.Genre.str.split(\", \")).explode('Genre')"
   ]
  },
  {
   "cell_type": "code",
   "execution_count": 5,
   "id": "35abf9b2",
   "metadata": {},
   "outputs": [],
   "source": [
    "# Splitst de genre's op in nieuwe kolommen\n",
    "# Gebruik wanneer exploden rommelt met gegevens\n",
    "movies[['Genre1', 'Genre2', 'Genre3']] = movies['Genre'].str.split(', ', 2, expand=True)"
   ]
  },
  {
   "cell_type": "code",
   "execution_count": 7,
   "id": "3fd2eb23",
   "metadata": {},
   "outputs": [
    {
     "data": {
      "text/html": [
       "<div>\n",
       "<style scoped>\n",
       "    .dataframe tbody tr th:only-of-type {\n",
       "        vertical-align: middle;\n",
       "    }\n",
       "\n",
       "    .dataframe tbody tr th {\n",
       "        vertical-align: top;\n",
       "    }\n",
       "\n",
       "    .dataframe thead th {\n",
       "        text-align: right;\n",
       "    }\n",
       "</style>\n",
       "<table border=\"1\" class=\"dataframe\">\n",
       "  <thead>\n",
       "    <tr style=\"text-align: right;\">\n",
       "      <th></th>\n",
       "      <th>Released_Year</th>\n",
       "      <th>Runtime</th>\n",
       "      <th>IMDB_Rating</th>\n",
       "      <th>Meta_score</th>\n",
       "      <th>No_of_Votes</th>\n",
       "      <th>Gross</th>\n",
       "    </tr>\n",
       "  </thead>\n",
       "  <tbody>\n",
       "    <tr>\n",
       "      <th>Released_Year</th>\n",
       "      <td>1.000000</td>\n",
       "      <td>0.165807</td>\n",
       "      <td>-0.131053</td>\n",
       "      <td>-0.339272</td>\n",
       "      <td>0.241785</td>\n",
       "      <td>0.233250</td>\n",
       "    </tr>\n",
       "    <tr>\n",
       "      <th>Runtime</th>\n",
       "      <td>0.165807</td>\n",
       "      <td>1.000000</td>\n",
       "      <td>0.244112</td>\n",
       "      <td>-0.031399</td>\n",
       "      <td>0.173304</td>\n",
       "      <td>0.139104</td>\n",
       "    </tr>\n",
       "    <tr>\n",
       "      <th>IMDB_Rating</th>\n",
       "      <td>-0.131053</td>\n",
       "      <td>0.244112</td>\n",
       "      <td>1.000000</td>\n",
       "      <td>0.268641</td>\n",
       "      <td>0.495361</td>\n",
       "      <td>0.097490</td>\n",
       "    </tr>\n",
       "    <tr>\n",
       "      <th>Meta_score</th>\n",
       "      <td>-0.339272</td>\n",
       "      <td>-0.031399</td>\n",
       "      <td>0.268641</td>\n",
       "      <td>1.000000</td>\n",
       "      <td>-0.018519</td>\n",
       "      <td>-0.030560</td>\n",
       "    </tr>\n",
       "    <tr>\n",
       "      <th>No_of_Votes</th>\n",
       "      <td>0.241785</td>\n",
       "      <td>0.173304</td>\n",
       "      <td>0.495361</td>\n",
       "      <td>-0.018519</td>\n",
       "      <td>1.000000</td>\n",
       "      <td>0.574877</td>\n",
       "    </tr>\n",
       "    <tr>\n",
       "      <th>Gross</th>\n",
       "      <td>0.233250</td>\n",
       "      <td>0.139104</td>\n",
       "      <td>0.097490</td>\n",
       "      <td>-0.030560</td>\n",
       "      <td>0.574877</td>\n",
       "      <td>1.000000</td>\n",
       "    </tr>\n",
       "  </tbody>\n",
       "</table>\n",
       "</div>"
      ],
      "text/plain": [
       "               Released_Year   Runtime  IMDB_Rating  Meta_score  No_of_Votes  \\\n",
       "Released_Year       1.000000  0.165807    -0.131053   -0.339272     0.241785   \n",
       "Runtime             0.165807  1.000000     0.244112   -0.031399     0.173304   \n",
       "IMDB_Rating        -0.131053  0.244112     1.000000    0.268641     0.495361   \n",
       "Meta_score         -0.339272 -0.031399     0.268641    1.000000    -0.018519   \n",
       "No_of_Votes         0.241785  0.173304     0.495361   -0.018519     1.000000   \n",
       "Gross               0.233250  0.139104     0.097490   -0.030560     0.574877   \n",
       "\n",
       "                  Gross  \n",
       "Released_Year  0.233250  \n",
       "Runtime        0.139104  \n",
       "IMDB_Rating    0.097490  \n",
       "Meta_score    -0.030560  \n",
       "No_of_Votes    0.574877  \n",
       "Gross          1.000000  "
      ]
     },
     "execution_count": 7,
     "metadata": {},
     "output_type": "execute_result"
    }
   ],
   "source": [
    "movies.corr()"
   ]
  },
  {
   "cell_type": "markdown",
   "id": "58b4a8e8",
   "metadata": {},
   "source": [
    "Hieruit blijk dat de sterkste correlatie ligt tussen 'Gross' en 'No_of_Votes'. Dit is logisch aangezien een film die veel bekeken wordt veel zal opleveren en ook veel reviews zal krijgen."
   ]
  },
  {
   "cell_type": "code",
   "execution_count": 8,
   "id": "984c4e54",
   "metadata": {
    "scrolled": true
   },
   "outputs": [
    {
     "data": {
      "text/plain": [
       "<AxesSubplot:xlabel='Gross', ylabel='No_of_Votes'>"
      ]
     },
     "execution_count": 8,
     "metadata": {},
     "output_type": "execute_result"
    },
    {
     "data": {
      "image/png": "[encoded data removed]",
      "text/plain": [
       "<Figure size 432x288 with 1 Axes>"
      ]
     },
     "metadata": {
      "needs_background": "light"
     },
     "output_type": "display_data"
    }
   ],
   "source": [
    "movies.plot(kind='scatter', x='Gross', y='No_of_Votes')"
   ]
  },
  {
   "cell_type": "markdown",
   "id": "cfb80328",
   "metadata": {},
   "source": [
    "Ik had niet verwacht dat de film met de hoogste gross en redelijk lage no_of_votes zou hebben. Zo vind ik het ook apart de de film met de hoogste no_of_votes en lage gross heeft."
   ]
  }
 ],
 "metadata": {
  "kernelspec": {
   "display_name": "Python 3 (ipykernel)",
   "language": "python",
   "name": "python3"
  },
  "language_info": {
   "codemirror_mode": {
    "name": "ipython",
    "version": 3
   },
   "file_extension": ".py",
   "mimetype": "text/x-python",
   "name": "python",
   "nbconvert_exporter": "python",
   "pygments_lexer": "ipython3",
   "version": "3.9.7"
  }
 },
 "nbformat": 4,
 "nbformat_minor": 5
}
