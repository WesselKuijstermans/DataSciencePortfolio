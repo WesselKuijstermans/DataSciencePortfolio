{
 "cells": [
  {
   "cell_type": "code",
   "execution_count": 8,
   "id": "9c06e18d",
   "metadata": {},
   "outputs": [],
   "source": [
    "import pandas as pd\n",
    "import seaborn as sns"
   ]
  },
  {
   "cell_type": "code",
   "execution_count": 3,
   "id": "a1047ba5",
   "metadata": {},
   "outputs": [],
   "source": [
    "movies = pd.read_csv('./imdb_top_1000.csv', thousands=',')"
   ]
  },
  {
   "cell_type": "code",
   "execution_count": 4,
   "id": "3bca21a6",
   "metadata": {},
   "outputs": [],
   "source": [
    "movies['Runtime'] = [i.split()[0] for i in movies['Runtime']]\n",
    "movies['Runtime'] = movies['Runtime'].astype(int)\n",
    "movies = movies[movies.Released_Year.str.isnumeric()]\n",
    "movies['Released_Year'] = movies['Released_Year'].astype(int)"
   ]
  },
  {
   "cell_type": "code",
   "execution_count": 5,
   "id": "0c1f38af",
   "metadata": {},
   "outputs": [],
   "source": [
    "# Splitst de genre's op in nieuwe rijen\n",
    "# Gebruik enkel voor tellen van genre's\n",
    "moviesExplodeGenre = movies.assign(Genre = movies.Genre.str.split(\", \")).explode('Genre')"
   ]
  },
  {
   "cell_type": "code",
   "execution_count": 6,
   "id": "906589bc",
   "metadata": {},
   "outputs": [],
   "source": [
    "# Splitst de genre's op in nieuwe kolommen\n",
    "# Gebruik wanneer exploden rommelt met gegevens\n",
    "movies[['Genre1', 'Genre2', 'Genre3']] = movies['Genre'].str.split(', ', 2, expand=True)"
   ]
  },
  {
   "cell_type": "code",
   "execution_count": 7,
   "id": "6ff80ebc",
   "metadata": {},
   "outputs": [
    {
     "data": {
      "text/html": [
       "<div>\n",
       "<style scoped>\n",
       "    .dataframe tbody tr th:only-of-type {\n",
       "        vertical-align: middle;\n",
       "    }\n",
       "\n",
       "    .dataframe tbody tr th {\n",
       "        vertical-align: top;\n",
       "    }\n",
       "\n",
       "    .dataframe thead th {\n",
       "        text-align: right;\n",
       "    }\n",
       "</style>\n",
       "<table border=\"1\" class=\"dataframe\">\n",
       "  <thead>\n",
       "    <tr style=\"text-align: right;\">\n",
       "      <th></th>\n",
       "      <th>Released_Year</th>\n",
       "      <th>Runtime</th>\n",
       "      <th>IMDB_Rating</th>\n",
       "      <th>Meta_score</th>\n",
       "      <th>No_of_Votes</th>\n",
       "      <th>Gross</th>\n",
       "    </tr>\n",
       "    <tr>\n",
       "      <th>Genre</th>\n",
       "      <th></th>\n",
       "      <th></th>\n",
       "      <th></th>\n",
       "      <th></th>\n",
       "      <th></th>\n",
       "      <th></th>\n",
       "    </tr>\n",
       "  </thead>\n",
       "  <tbody>\n",
       "    <tr>\n",
       "      <th>Action</th>\n",
       "      <td>1997.719577</td>\n",
       "      <td>126.724868</td>\n",
       "      <td>7.948677</td>\n",
       "      <td>73.769231</td>\n",
       "      <td>404172.412698</td>\n",
       "      <td>1.412393e+08</td>\n",
       "    </tr>\n",
       "    <tr>\n",
       "      <th>Adventure</th>\n",
       "      <td>1995.056410</td>\n",
       "      <td>125.425641</td>\n",
       "      <td>7.953846</td>\n",
       "      <td>78.011173</td>\n",
       "      <td>425751.702564</td>\n",
       "      <td>1.656833e+08</td>\n",
       "    </tr>\n",
       "    <tr>\n",
       "      <th>Animation</th>\n",
       "      <td>2002.219512</td>\n",
       "      <td>99.585366</td>\n",
       "      <td>7.930488</td>\n",
       "      <td>81.093333</td>\n",
       "      <td>268032.073171</td>\n",
       "      <td>1.279675e+08</td>\n",
       "    </tr>\n",
       "    <tr>\n",
       "      <th>Biography</th>\n",
       "      <td>1998.577982</td>\n",
       "      <td>135.669725</td>\n",
       "      <td>7.935780</td>\n",
       "      <td>76.319588</td>\n",
       "      <td>251898.550459</td>\n",
       "      <td>5.525602e+07</td>\n",
       "    </tr>\n",
       "    <tr>\n",
       "      <th>Comedy</th>\n",
       "      <td>1991.034335</td>\n",
       "      <td>111.639485</td>\n",
       "      <td>7.903433</td>\n",
       "      <td>77.957447</td>\n",
       "      <td>225465.965665</td>\n",
       "      <td>6.412530e+07</td>\n",
       "    </tr>\n",
       "    <tr>\n",
       "      <th>Crime</th>\n",
       "      <td>1991.913876</td>\n",
       "      <td>123.440191</td>\n",
       "      <td>7.954545</td>\n",
       "      <td>75.414201</td>\n",
       "      <td>281322.124402</td>\n",
       "      <td>4.068014e+07</td>\n",
       "    </tr>\n",
       "    <tr>\n",
       "      <th>Drama</th>\n",
       "      <td>1992.181189</td>\n",
       "      <td>126.683264</td>\n",
       "      <td>7.959889</td>\n",
       "      <td>78.041736</td>\n",
       "      <td>240690.302905</td>\n",
       "      <td>4.584528e+07</td>\n",
       "    </tr>\n",
       "    <tr>\n",
       "      <th>Family</th>\n",
       "      <td>1988.625000</td>\n",
       "      <td>114.142857</td>\n",
       "      <td>7.912500</td>\n",
       "      <td>77.880000</td>\n",
       "      <td>223472.107143</td>\n",
       "      <td>9.293266e+07</td>\n",
       "    </tr>\n",
       "    <tr>\n",
       "      <th>Fantasy</th>\n",
       "      <td>1991.287879</td>\n",
       "      <td>114.772727</td>\n",
       "      <td>7.931818</td>\n",
       "      <td>76.344828</td>\n",
       "      <td>347097.060606</td>\n",
       "      <td>1.086168e+08</td>\n",
       "    </tr>\n",
       "    <tr>\n",
       "      <th>Film-Noir</th>\n",
       "      <td>1948.578947</td>\n",
       "      <td>100.736842</td>\n",
       "      <td>7.989474</td>\n",
       "      <td>93.727273</td>\n",
       "      <td>80185.210526</td>\n",
       "      <td>4.872073e+06</td>\n",
       "    </tr>\n",
       "    <tr>\n",
       "      <th>History</th>\n",
       "      <td>1988.381818</td>\n",
       "      <td>143.618182</td>\n",
       "      <td>7.960000</td>\n",
       "      <td>79.276596</td>\n",
       "      <td>194093.672727</td>\n",
       "      <td>5.272290e+07</td>\n",
       "    </tr>\n",
       "    <tr>\n",
       "      <th>Horror</th>\n",
       "      <td>1969.531250</td>\n",
       "      <td>102.500000</td>\n",
       "      <td>7.887500</td>\n",
       "      <td>81.555556</td>\n",
       "      <td>217860.625000</td>\n",
       "      <td>4.000236e+07</td>\n",
       "    </tr>\n",
       "    <tr>\n",
       "      <th>Music</th>\n",
       "      <td>1996.657143</td>\n",
       "      <td>120.742857</td>\n",
       "      <td>7.914286</td>\n",
       "      <td>76.896552</td>\n",
       "      <td>139281.685714</td>\n",
       "      <td>3.291969e+07</td>\n",
       "    </tr>\n",
       "    <tr>\n",
       "      <th>Musical</th>\n",
       "      <td>1979.294118</td>\n",
       "      <td>140.294118</td>\n",
       "      <td>7.947059</td>\n",
       "      <td>77.916667</td>\n",
       "      <td>79613.588235</td>\n",
       "      <td>2.019933e+07</td>\n",
       "    </tr>\n",
       "    <tr>\n",
       "      <th>Mystery</th>\n",
       "      <td>1987.737374</td>\n",
       "      <td>121.141414</td>\n",
       "      <td>7.967677</td>\n",
       "      <td>78.762500</td>\n",
       "      <td>293463.363636</td>\n",
       "      <td>4.127438e+07</td>\n",
       "    </tr>\n",
       "    <tr>\n",
       "      <th>Romance</th>\n",
       "      <td>1987.400000</td>\n",
       "      <td>119.928000</td>\n",
       "      <td>7.925600</td>\n",
       "      <td>81.278846</td>\n",
       "      <td>200913.144000</td>\n",
       "      <td>4.035885e+07</td>\n",
       "    </tr>\n",
       "    <tr>\n",
       "      <th>Sci-Fi</th>\n",
       "      <td>1992.164179</td>\n",
       "      <td>120.805970</td>\n",
       "      <td>7.977612</td>\n",
       "      <td>76.596774</td>\n",
       "      <td>556242.477612</td>\n",
       "      <td>1.480264e+08</td>\n",
       "    </tr>\n",
       "    <tr>\n",
       "      <th>Sport</th>\n",
       "      <td>2001.736842</td>\n",
       "      <td>132.631579</td>\n",
       "      <td>7.926316</td>\n",
       "      <td>72.529412</td>\n",
       "      <td>256618.684211</td>\n",
       "      <td>5.367202e+07</td>\n",
       "    </tr>\n",
       "    <tr>\n",
       "      <th>Thriller</th>\n",
       "      <td>1990.963504</td>\n",
       "      <td>119.642336</td>\n",
       "      <td>7.909489</td>\n",
       "      <td>76.915254</td>\n",
       "      <td>300050.744526</td>\n",
       "      <td>5.867663e+07</td>\n",
       "    </tr>\n",
       "    <tr>\n",
       "      <th>War</th>\n",
       "      <td>1979.196078</td>\n",
       "      <td>132.039216</td>\n",
       "      <td>8.013725</td>\n",
       "      <td>80.288889</td>\n",
       "      <td>194244.509804</td>\n",
       "      <td>3.807829e+07</td>\n",
       "    </tr>\n",
       "    <tr>\n",
       "      <th>Western</th>\n",
       "      <td>1969.450000</td>\n",
       "      <td>134.600000</td>\n",
       "      <td>8.000000</td>\n",
       "      <td>83.100000</td>\n",
       "      <td>229475.800000</td>\n",
       "      <td>5.351884e+07</td>\n",
       "    </tr>\n",
       "  </tbody>\n",
       "</table>\n",
       "</div>"
      ],
      "text/plain": [
       "           Released_Year     Runtime  IMDB_Rating  Meta_score    No_of_Votes  \\\n",
       "Genre                                                                          \n",
       "Action       1997.719577  126.724868     7.948677   73.769231  404172.412698   \n",
       "Adventure    1995.056410  125.425641     7.953846   78.011173  425751.702564   \n",
       "Animation    2002.219512   99.585366     7.930488   81.093333  268032.073171   \n",
       "Biography    1998.577982  135.669725     7.935780   76.319588  251898.550459   \n",
       "Comedy       1991.034335  111.639485     7.903433   77.957447  225465.965665   \n",
       "Crime        1991.913876  123.440191     7.954545   75.414201  281322.124402   \n",
       "Drama        1992.181189  126.683264     7.959889   78.041736  240690.302905   \n",
       "Family       1988.625000  114.142857     7.912500   77.880000  223472.107143   \n",
       "Fantasy      1991.287879  114.772727     7.931818   76.344828  347097.060606   \n",
       "Film-Noir    1948.578947  100.736842     7.989474   93.727273   80185.210526   \n",
       "History      1988.381818  143.618182     7.960000   79.276596  194093.672727   \n",
       "Horror       1969.531250  102.500000     7.887500   81.555556  217860.625000   \n",
       "Music        1996.657143  120.742857     7.914286   76.896552  139281.685714   \n",
       "Musical      1979.294118  140.294118     7.947059   77.916667   79613.588235   \n",
       "Mystery      1987.737374  121.141414     7.967677   78.762500  293463.363636   \n",
       "Romance      1987.400000  119.928000     7.925600   81.278846  200913.144000   \n",
       "Sci-Fi       1992.164179  120.805970     7.977612   76.596774  556242.477612   \n",
       "Sport        2001.736842  132.631579     7.926316   72.529412  256618.684211   \n",
       "Thriller     1990.963504  119.642336     7.909489   76.915254  300050.744526   \n",
       "War          1979.196078  132.039216     8.013725   80.288889  194244.509804   \n",
       "Western      1969.450000  134.600000     8.000000   83.100000  229475.800000   \n",
       "\n",
       "                  Gross  \n",
       "Genre                    \n",
       "Action     1.412393e+08  \n",
       "Adventure  1.656833e+08  \n",
       "Animation  1.279675e+08  \n",
       "Biography  5.525602e+07  \n",
       "Comedy     6.412530e+07  \n",
       "Crime      4.068014e+07  \n",
       "Drama      4.584528e+07  \n",
       "Family     9.293266e+07  \n",
       "Fantasy    1.086168e+08  \n",
       "Film-Noir  4.872073e+06  \n",
       "History    5.272290e+07  \n",
       "Horror     4.000236e+07  \n",
       "Music      3.291969e+07  \n",
       "Musical    2.019933e+07  \n",
       "Mystery    4.127438e+07  \n",
       "Romance    4.035885e+07  \n",
       "Sci-Fi     1.480264e+08  \n",
       "Sport      5.367202e+07  \n",
       "Thriller   5.867663e+07  \n",
       "War        3.807829e+07  \n",
       "Western    5.351884e+07  "
      ]
     },
     "execution_count": 7,
     "metadata": {},
     "output_type": "execute_result"
    }
   ],
   "source": [
    "moviesExplodeGenre.groupby('Genre').mean()"
   ]
  },
  {
   "cell_type": "markdown",
   "id": "a4882a4e",
   "metadata": {},
   "source": [
    "Uit deze data is te zien dat Film-Noir genre films minder opbrengst hebben en een lager gemiddelde release year hebben, maar wel goede ratings hebben. Ook is het te zien dat Animation films recent relatief meer uitkomen, maar een minder lange runtime hebben."
   ]
  },
  {
   "cell_type": "code",
   "execution_count": 11,
   "id": "dacb2aa2",
   "metadata": {},
   "outputs": [
    {
     "data": {
      "text/plain": [
       "<AxesSubplot:xlabel='Gross', ylabel='Genre'>"
      ]
     },
     "execution_count": 11,
     "metadata": {},
     "output_type": "execute_result"
    },
    {
     "data": {
      "image/png": "[encoded data removed]",
      "text/plain": [
       "<Figure size 432x288 with 1 Axes>"
      ]
     },
     "metadata": {
      "needs_background": "light"
     },
     "output_type": "display_data"
    }
   ],
   "source": [
    "sns.barplot(data=moviesExplodeGenre, y='Genre', x='Gross')"
   ]
  },
  {
   "cell_type": "markdown",
   "id": "07234734",
   "metadata": {},
   "source": [
    "Hieruit is te zien dat Action, Adventure, Sci-Fi, Fantasy en Animation films de 5 meest winstmakende genre's zijn. Een mogelijk link hier tussen is dat deze genre's misschien meer door grote studios gemaakt worden en dus meer bekeken worden en meer opbrengst hebben. Film-Noir is overduidelijk het minst verdienende genre en dat wordt verklaard door het feit dat deze films alleen bij de start van de filmindustrie gemaakt werden en dus nog een kleiner publiek hadden. Ook moet (indien dat nog niet is omgerekend) rekening gehouden worden met inflatie."
   ]
  },
  {
   "cell_type": "code",
   "execution_count": 16,
   "id": "79318fec",
   "metadata": {},
   "outputs": [
    {
     "data": {
      "text/plain": [
       "[(1920.0, 2010.0)]"
      ]
     },
     "execution_count": 16,
     "metadata": {},
     "output_type": "execute_result"
    },
    {
     "data": {
      "image/png": "[encoded data removed]",
      "text/plain": [
       "<Figure size 432x288 with 1 Axes>"
      ]
     },
     "metadata": {
      "needs_background": "light"
     },
     "output_type": "display_data"
    }
   ],
   "source": [
    "plot = sns.barplot(data=moviesExplodeGenre, y='Genre', x='Released_Year')\n",
    "plot.set(xlim=(1920, 2010))"
   ]
  },
  {
   "cell_type": "markdown",
   "id": "ea27c7b1",
   "metadata": {},
   "source": [
    "In deze grafiek is de evolutie van de filmindustrie goed afgebeeld. Aan het begin waren enkel de film-noir films, omdat er toen nog niet de technologie was voor films in kleur. De western en horror genre's zijn daarna gemiddeld het oudst, omdat deze genre's toen heel erg in de smaak vielen. De twee jongste genre's zijn Animatie en Sport. Animatie wordt verklaard door dat de technologie voor deze films relatief nieuw is. Waarom Sport gemiddeld een nieuw genre is is niet meteen duidelijk, maar het is wel zichtbaar dat de standard deviation groter is dan bij Animation. De oudste sport films zijn dus ouder dan de oudste animatie films, maar om op een vergelijkbare gemiddelde release year uit te komen moeten er dus de laatste tijd relatief veel sport films uitgekomen zijn."
   ]
  },
  {
   "cell_type": "code",
   "execution_count": 18,
   "id": "96e51347",
   "metadata": {},
   "outputs": [
    {
     "data": {
      "text/plain": [
       "[(60.0, 100.0)]"
      ]
     },
     "execution_count": 18,
     "metadata": {},
     "output_type": "execute_result"
    },
    {
     "data": {
      "image/png": "[encoded data removed]",
      "text/plain": [
       "<Figure size 432x288 with 1 Axes>"
      ]
     },
     "metadata": {
      "needs_background": "light"
     },
     "output_type": "display_data"
    }
   ],
   "source": [
    "plot = sns.barplot(data=moviesExplodeGenre, y='Genre', x='Meta_score')\n",
    "plot.set(xlim=(60,100))"
   ]
  },
  {
   "cell_type": "markdown",
   "id": "be25b63e",
   "metadata": {},
   "source": [
    "Het is in deze grafiek meteen duidelijk dat Film-Noir fims het best gewaardeerde genre zijn. Dit kan komen doordat mensen veel nostalgie hebben voor deze films, omdat voor een groot deel van de populatie dit de eerste films waren die ze hebben gezien.\n",
    "Daarentegen heeft het genre Sport gemiddeld de laagste waardering, maar wel een grote standard deviation. Hieruit blijkt dat er dus veel slechte, maar ook veel goede sport films zijn. De standard deviation kan ook verklaard worden door de conclusie van de vorige grafiek, want als er de laatste tijd veel goede sport films uitgekomen zijn gaan veel mensen sport films maken om snel wat geld te verdienen. Deze meelopers maken dan slechtere films met slechte waarderingen, waardoor de deviation hoog is."
   ]
  },
  {
   "cell_type": "code",
   "execution_count": null,
   "id": "e7b5e3c9",
   "metadata": {},
   "outputs": [],
   "source": []
  }
 ],
 "metadata": {
  "kernelspec": {
   "display_name": "Python 3 (ipykernel)",
   "language": "python",
   "name": "python3"
  },
  "language_info": {
   "codemirror_mode": {
    "name": "ipython",
    "version": 3
   },
   "file_extension": ".py",
   "mimetype": "text/x-python",
   "name": "python",
   "nbconvert_exporter": "python",
   "pygments_lexer": "ipython3",
   "version": "3.9.7"
  }
 },
 "nbformat": 4,
 "nbformat_minor": 5
}
